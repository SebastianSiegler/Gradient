{
 "cells": [
  {
   "cell_type": "markdown",
   "metadata": {},
   "source": [
    "## Algorithm"
   ]
  },
  {
   "cell_type": "markdown",
   "metadata": {},
   "source": [
    "A simple gradient Descent Algorithm is as follows:\n",
    "1. Obtain a function to minimize F(x)\n",
    "\n",
    "2. Initialize a value x from which to start the descent or optimization from\n",
    "\n",
    "3. Specify a learning rate that will determine how much of a step to descend by or how quickly you converge to the minimum value\n",
    "\n",
    "4. Obtain the derivative of that value x (the descent)\n",
    "\n",
    "5. Proceed to descend by the derivative of that value multiplied by the learning rate\n",
    "\n",
    "6. Update the value of x with the new value descended to\n",
    "\n",
    "7. Check your stop condition to see whether to stop\n",
    "\n",
    "8. If condition satisfied, stop. If not, proceed to step 4 with the new x value and keep repeating algorithm"
   ]
  },
  {
   "cell_type": "markdown",
   "metadata": {},
   "source": [
    "### Let us implement this in Python"
   ]
  },
  {
   "cell_type": "markdown",
   "metadata": {},
   "source": [
    "We will implement a simple representation of gradient descent using python. \n",
    "\n",
    "We will create an arbitrary loss function and attempt to find a local minimum value for that function— f(x) = x³ — 3x² + 7"
   ]
  },
  {
   "cell_type": "markdown",
   "metadata": {},
   "source": [
    "#### Step 1"
   ]
  },
  {
   "cell_type": "markdown",
   "metadata": {},
   "source": [
    "We will first visualize this function with a set of values ranging from -1 and 3 (arbitrarily chosen to ensure steep curve)"
   ]
  },
  {
   "cell_type": "code",
   "execution_count": 1,
   "metadata": {
    "collapsed": true
   },
   "outputs": [],
   "source": [
    "# Your code here"
   ]
  },
  {
   "cell_type": "code",
   "execution_count": 2,
   "metadata": {},
   "outputs": [
    {
     "data": {
      "image/png": "[encoded data removed]",
      "text/plain": [
       "<matplotlib.figure.Figure at 0x10b1c1710>"
      ]
     },
     "metadata": {},
     "output_type": "display_data"
    }
   ],
   "source": [
    "import numpy as np\n",
    "import matplotlib.pyplot as plt\n",
    "%matplotlib inline\n",
    "#creating the function and plotting it \n",
    "\n",
    "function = lambda x: (x ** 3)-(3 *(x ** 2))+7\n",
    "\n",
    "#Get 1000 evenly spaced numbers between -1 and 3 (arbitratil chosen to ensure steep curve)\n",
    "x = np.linspace(-1,3,500)\n",
    "\n",
    "#Plot the curve\n",
    "plt.plot(x, function(x))\n",
    "plt.show()"
   ]
  },
  {
   "cell_type": "markdown",
   "metadata": {},
   "source": [
    "#### Step 2"
   ]
  },
  {
   "cell_type": "markdown",
   "metadata": {},
   "source": [
    "We will then proceed to make two functions for the gradient descent implementation:\n",
    "\n",
    "The first is a derivative function: \n",
    "\n",
    "\n",
    "This function takes in a value of x and returns its derivative based on the initial function we specified. It is shown below:"
   ]
  },
  {
   "cell_type": "code",
   "execution_count": 3,
   "metadata": {
    "collapsed": true
   },
   "outputs": [],
   "source": [
    "def deriv(x):\n",
    "    \n",
    "    '''\n",
    "    Description: This function takes in a value of x and returns its derivative based on the \n",
    "    initial function we specified.\n",
    "    \n",
    "    Arguments:\n",
    "    \n",
    "    x - a numerical value of x \n",
    "    \n",
    "    Returns:\n",
    "    \n",
    "    x_deriv - a numerical value of the derivative of x\n",
    "    \n",
    "    '''\n",
    "    \n",
    "    x_deriv = 3* (x**2) - (6 * (x))\n",
    "    return x_deriv"
   ]
  },
  {
   "cell_type": "markdown",
   "metadata": {},
   "source": [
    "#### Step 3"
   ]
  },
  {
   "cell_type": "markdown",
   "metadata": {},
   "source": [
    "The second is a Step function: \n",
    "\n",
    "\n",
    "This is the function where the actual gradient descent takes place. \n",
    "\n",
    "\n",
    "\n",
    "This function takes in an initial or previous value for x, updates it based on steps taken via the learning rate and outputs the most minimum value of x that reaches the stop condition. \n",
    "\n",
    "\n",
    "\n",
    "For our stop condition, we are going to use a precision stop.\n",
    "\n",
    "\n",
    "\n",
    "This means that when the absolute difference between our old and updated x is greater than a value, the algorithm should stop. \n",
    "\n",
    "\n",
    "\n",
    "The function will also print out the minimum value of x as well as the number of steps or descents it took to reach that value."
   ]
  },
  {
   "cell_type": "code",
   "execution_count": 4,
   "metadata": {
    "collapsed": true
   },
   "outputs": [],
   "source": [
    "# Your code here\n",
    "\n",
    "def step(x_new, x_prev, precision, l_r):\n",
    "    \n",
    "    '''\n",
    "    Description: This function takes in an initial or previous value for x, updates it based on \n",
    "    steps taken via the learning rate and outputs the most minimum value of x that reaches the precision satisfaction.\n",
    "    \n",
    "    Arguments:\n",
    "    \n",
    "    x_new - a starting value of x that will get updated based on the learning rate\n",
    "    \n",
    "    x_prev - the previous value of x that is getting updated to the new one\n",
    "    \n",
    "    precision - a precision that determines the stop of the stepwise descent \n",
    "    \n",
    "    l_r - the learning rate (size of each descent step)\n",
    "    \n",
    "    Output:\n",
    "    \n",
    "    1. Prints out the latest new value of x which equates to the minimum we are looking for\n",
    "    2. Prints out the the number of x values which equates to the number of gradient descent steps\n",
    "    3. Plots a first graph of the function with the gradient descent path\n",
    "    4. Plots a second graph of the function with a zoomed in gradient descent path in the important area\n",
    "    \n",
    "    '''\n",
    "    \n",
    "    # create empty lists where the updated values of x and y wil be appended during each iteration\n",
    "    \n",
    "    x_list, y_list = [x_new], [function(x_new)]\n",
    "    # keep looping until your desired precision\n",
    "    while abs(x_new - x_prev) > precision:\n",
    "        \n",
    "        # change the value of x\n",
    "        x_prev = x_new\n",
    "        \n",
    "        # get the derivation of the old value of x\n",
    "        d_x = - deriv(x_prev)\n",
    "        \n",
    "        # get your new value of x by adding the previous, the multiplication of the derivative and the learning rate\n",
    "        x_new = x_prev + (l_r * d_x)\n",
    "        \n",
    "        # append the new value of x to a list of all x-s for later visualization of path\n",
    "        x_list.append(x_new)\n",
    "        \n",
    "        # append the new value of y to a list of all y-s for later visualization of path\n",
    "        y_list.append(function(x_new))\n",
    "\n",
    "    print (\"Local minimum occurs at: \"+ str(x_new))\n",
    "    print (\"Number of steps: \" + str(len(x_list)))\n",
    "    \n",
    "    \n",
    "    plt.subplot(1,2,2)\n",
    "    plt.scatter(x_list,y_list,c=\"g\")\n",
    "    plt.plot(x_list,y_list,c=\"g\")\n",
    "    plt.plot(x,function(x), c=\"r\")\n",
    "    plt.title(\"Gradient descent\")\n",
    "    plt.show()\n",
    "\n",
    "    plt.subplot(1,2,1)\n",
    "    plt.scatter(x_list,y_list,c=\"g\")\n",
    "    plt.plot(x_list,y_list,c=\"g\")\n",
    "    plt.plot(x,function(x), c=\"r\")\n",
    "    plt.xlim([1.0,2.1])\n",
    "    plt.title(\"Zoomed in Gradient descent to Key Area\")\n",
    "    plt.show()"
   ]
  },
  {
   "cell_type": "markdown",
   "metadata": {},
   "source": [
    "#### Step 4"
   ]
  },
  {
   "cell_type": "code",
   "execution_count": 5,
   "metadata": {},
   "outputs": [
    {
     "name": "stdout",
     "output_type": "stream",
     "text": [
      "Local minimum occurs at: 1.9980265135950486\n",
      "Number of steps: 25\n"
     ]
    },
    {
     "data": {
      "image/png": "[encoded data removed]",
      "text/plain": [
       "<matplotlib.figure.Figure at 0x113310e48>"
      ]
     },
     "metadata": {},
     "output_type": "display_data"
    },
    {
     "data": {
      "image/png": "[encoded data removed]",
      "text/plain": [
       "<matplotlib.figure.Figure at 0x113285518>"
      ]
     },
     "metadata": {},
     "output_type": "display_data"
    }
   ],
   "source": [
    "#Implement gradient descent (all the arguments are arbitrarily chosen)\n",
    "\n",
    "step(0.5, 0, 0.001, 0.05)"
   ]
  },
  {
   "cell_type": "code",
   "execution_count": null,
   "metadata": {
    "collapsed": true
   },
   "outputs": [],
   "source": []
  }
 ],
 "metadata": {
  "kernelspec": {
   "display_name": "Python 3",
   "language": "python",
   "name": "python3"
  },
  "language_info": {
   "codemirror_mode": {
    "name": "ipython",
    "version": 3
   },
   "file_extension": ".py",
   "mimetype": "text/x-python",
   "name": "python",
   "nbconvert_exporter": "python",
   "pygments_lexer": "ipython3",
   "version": "3.6.6"
  }
 },
 "nbformat": 4,
 "nbformat_minor": 2
}
